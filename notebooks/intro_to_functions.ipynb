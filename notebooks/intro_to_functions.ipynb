{
 "cells": [
  {
   "cell_type": "markdown",
   "id": "a45fc4f4",
   "metadata": {},
   "source": [
    "# Functions\n",
    "\n",
    "A function (also called a \"method\") is a transformation between input and output.  \n",
    "\n",
    "Functions can have no inputs, 1 input, many inputs. Inputs can be named or not. Inputs can be optional or required. \n",
    "\n",
    "Functions in python *must have at least one output*, but it may have more."
   ]
  },
  {
   "cell_type": "code",
   "execution_count": 1,
   "id": "5eba5a93",
   "metadata": {},
   "outputs": [],
   "source": [
    "def firstFunction():\n",
    "    pass"
   ]
  },
  {
   "cell_type": "markdown",
   "id": "4dfaf5f2",
   "metadata": {},
   "source": [
    "Funtions in python begin with the word \"def\" and then a white space, then the name of the function, then paratheses (), which are for the inputs/arguments/parameters of the function, then a colon.\n",
    "\n",
    "A *block* is a collection of code that is meant to be grouped together.  These are specified in python with white space."
   ]
  },
  {
   "cell_type": "markdown",
   "id": "c9f3dfcd",
   "metadata": {},
   "source": [
    "The *pass* word is just a throw away word in python for making the grammar checker happy.  It's for things that aren't finished yet, but you don't want the python interpreter to complain.\n",
    "\n",
    "Below, we show what happens if you *don't* use the \"pass\" word. The interpreter will complain about a function definition needing *something* there to define it."
   ]
  },
  {
   "cell_type": "code",
   "execution_count": 2,
   "id": "d0ea313f",
   "metadata": {},
   "outputs": [
    {
     "ename": "SyntaxError",
     "evalue": "incomplete input (3388015951.py, line 2)",
     "output_type": "error",
     "traceback": [
      "\u001b[0;36m  Cell \u001b[0;32mIn[2], line 2\u001b[0;36m\u001b[0m\n\u001b[0;31m    \u001b[0m\n\u001b[0m    ^\u001b[0m\n\u001b[0;31mSyntaxError\u001b[0m\u001b[0;31m:\u001b[0m incomplete input\n"
     ]
    }
   ],
   "source": [
    "def firstFunction():\n",
    "    "
   ]
  },
  {
   "cell_type": "code",
   "execution_count": null,
   "id": "52e9094b",
   "metadata": {},
   "outputs": [
    {
     "ename": "SyntaxError",
     "evalue": "expected ':' (3315415717.py, line 1)",
     "output_type": "error",
     "traceback": [
      "\u001b[0;36m  Cell \u001b[0;32mIn[1], line 1\u001b[0;36m\u001b[0m\n\u001b[0;31m    def firstFunction()\u001b[0m\n\u001b[0m                       ^\u001b[0m\n\u001b[0;31mSyntaxError\u001b[0m\u001b[0;31m:\u001b[0m expected ':'\n"
     ]
    }
   ],
   "source": [
    "def firstFunction()\n",
    "    pass"
   ]
  },
  {
   "cell_type": "markdown",
   "id": "31bbac47",
   "metadata": {},
   "source": [
    "The above shows a \"punction error\" in python, that is, the missing colon is a syntax (that is, grammatical) error."
   ]
  },
  {
   "cell_type": "code",
   "execution_count": 2,
   "id": "592a75c1",
   "metadata": {},
   "outputs": [
    {
     "ename": "IndentationError",
     "evalue": "expected an indented block after function definition on line 1 (2002081208.py, line 2)",
     "output_type": "error",
     "traceback": [
      "\u001b[0;36m  Cell \u001b[0;32mIn[2], line 2\u001b[0;36m\u001b[0m\n\u001b[0;31m    pass\u001b[0m\n\u001b[0m    ^\u001b[0m\n\u001b[0;31mIndentationError\u001b[0m\u001b[0;31m:\u001b[0m expected an indented block after function definition on line 1\n"
     ]
    }
   ],
   "source": [
    "def firstFunction():\n",
    "pass"
   ]
  },
  {
   "cell_type": "markdown",
   "id": "af86f79c",
   "metadata": {},
   "source": [
    "The above shows the importance of *white space* in python for grouping code together. This group is called a \"block\"."
   ]
  },
  {
   "cell_type": "markdown",
   "id": "ec5b36b7",
   "metadata": {},
   "source": [
    "The number of spaces doesn't matter, on one hand, e.g., below we will show that the python interpreter doesn't care sometimes."
   ]
  },
  {
   "cell_type": "code",
   "execution_count": 5,
   "id": "aff31482",
   "metadata": {},
   "outputs": [],
   "source": [
    "def firstFunction():\n",
    " pass # one space\n",
    "\n",
    "def firstFunction():\n",
    "  pass # two space\n",
    "\n",
    "def firstFunction():\n",
    "   pass # three space\n",
    "\n",
    "def firstFunction():\n",
    "    pass # four space"
   ]
  },
  {
   "cell_type": "markdown",
   "id": "8027b8a6",
   "metadata": {},
   "source": [
    "However, there are times when the number of spaces matter *within a block*.  Here you must be consistant.  The python interpreter will complain (crash), e.g. below"
   ]
  },
  {
   "cell_type": "code",
   "execution_count": 11,
   "id": "0a8df8e6",
   "metadata": {},
   "outputs": [
    {
     "ename": "IndentationError",
     "evalue": "unexpected indent (2034458936.py, line 4)",
     "output_type": "error",
     "traceback": [
      "\u001b[0;36m  Cell \u001b[0;32mIn[11], line 4\u001b[0;36m\u001b[0m\n\u001b[0;31m    print('second thing the func does') # one space\u001b[0m\n\u001b[0m    ^\u001b[0m\n\u001b[0;31mIndentationError\u001b[0m\u001b[0;31m:\u001b[0m unexpected indent\n"
     ]
    }
   ],
   "source": [
    "# here is the function definition (this is a definition *not* \"using/calling/executing\")\n",
    "def firstFunction():\n",
    " print('first thing the func does') # one space\n",
    "  print('second thing the func does') # one space\n",
    "\n",
    "# This is running/calling/executing/using the function\n",
    "firstFunction()"
   ]
  },
  {
   "cell_type": "code",
   "execution_count": null,
   "id": "da741277",
   "metadata": {},
   "outputs": [],
   "source": []
  }
 ],
 "metadata": {
  "kernelspec": {
   "display_name": "engravings",
   "language": "python",
   "name": "python3"
  },
  "language_info": {
   "codemirror_mode": {
    "name": "ipython",
    "version": 3
   },
   "file_extension": ".py",
   "mimetype": "text/x-python",
   "name": "python",
   "nbconvert_exporter": "python",
   "pygments_lexer": "ipython3",
   "version": "3.12.7"
  }
 },
 "nbformat": 4,
 "nbformat_minor": 5
}
