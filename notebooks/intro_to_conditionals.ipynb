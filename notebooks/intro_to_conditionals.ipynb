{
 "cells": [
  {
   "cell_type": "markdown",
   "id": "ee20f715",
   "metadata": {},
   "source": [
    "# Contitionals (if/elif/else)\n",
    "\n",
    "Contitionals are words in the language that allows parts of the program to run depending on the conditions.\n",
    "\n",
    "The full syntax is\n",
    "```python\n",
    "\n",
    "if <statment is True>: # check boolean statement\n",
    "    # code block\n",
    "elif <another statement is True>: # check another boolean statement\n",
    "    # code block\n",
    "elif ...\n",
    "else: # the default if all else fails\n",
    "    # code block\n",
    "```"
   ]
  },
  {
   "cell_type": "code",
   "execution_count": 2,
   "id": "0a2b6564",
   "metadata": {},
   "outputs": [
    {
     "name": "stdout",
     "output_type": "stream",
     "text": [
      "negative\n"
     ]
    }
   ],
   "source": [
    "x = -10\n",
    "if x > 0:\n",
    "    print('positive')\n",
    "else:\n",
    "    print('negative')"
   ]
  },
  {
   "cell_type": "code",
   "execution_count": null,
   "id": "4c130b99",
   "metadata": {},
   "outputs": [],
   "source": [
    "x = -10\n",
    "if x > 100:\n",
    "    print('big')\n",
    "elif x > 20:\n",
    "    print('medium')\n",
    "else:\n",
    "    print('small')"
   ]
  },
  {
   "cell_type": "code",
   "execution_count": null,
   "id": "012e16a4",
   "metadata": {},
   "outputs": [],
   "source": [
    "x = -10\n",
    "if x > 100:\n",
    "    print('big')\n",
    "if x > 20:\n",
    "    print('medium')\n",
    "else:\n",
    "    print('small')"
   ]
  }
 ],
 "metadata": {
  "kernelspec": {
   "display_name": "engravings",
   "language": "python",
   "name": "python3"
  },
  "language_info": {
   "codemirror_mode": {
    "name": "ipython",
    "version": 3
   },
   "file_extension": ".py",
   "mimetype": "text/x-python",
   "name": "python",
   "nbconvert_exporter": "python",
   "pygments_lexer": "ipython3",
   "version": "3.12.7"
  }
 },
 "nbformat": 4,
 "nbformat_minor": 5
}
