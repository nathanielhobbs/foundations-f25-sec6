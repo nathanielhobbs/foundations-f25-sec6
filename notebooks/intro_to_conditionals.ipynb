{
 "cells": [
  {
   "cell_type": "markdown",
   "id": "ee20f715",
   "metadata": {},
   "source": [
    "# Contitionals (if/elif/else)\n",
    "\n",
    "Contitionals are words in the language that allows parts of the program to run depending on the conditions.\n",
    "\n",
    "The full syntax is\n",
    "```python\n",
    "\n",
    "if <statment is True>: # check boolean statement\n",
    "    # code block\n",
    "elif <another statement is True>: # check another boolean statement\n",
    "    # code block\n",
    "elif ...\n",
    "else: # the default if all else fails\n",
    "    # code block\n",
    "```"
   ]
  },
  {
   "cell_type": "code",
   "execution_count": 19,
   "id": "0a2b6564",
   "metadata": {},
   "outputs": [
    {
     "name": "stdout",
     "output_type": "stream",
     "text": [
      "negative\n"
     ]
    }
   ],
   "source": [
    "x = -10\n",
    "if x > 0:\n",
    "    print('positive')\n",
    "else:\n",
    "    print('negative')"
   ]
  },
  {
   "cell_type": "code",
   "execution_count": 5,
   "id": "4c130b99",
   "metadata": {},
   "outputs": [
    {
     "name": "stdout",
     "output_type": "stream",
     "text": [
      "medium\n"
     ]
    }
   ],
   "source": [
    "x = 50\n",
    "if x > 100:\n",
    "    print('big')\n",
    "elif x > 20:\n",
    "    print('medium')\n",
    "else:\n",
    "    print('small')"
   ]
  },
  {
   "cell_type": "code",
   "execution_count": 8,
   "id": "012e16a4",
   "metadata": {},
   "outputs": [
    {
     "name": "stdout",
     "output_type": "stream",
     "text": [
      "odd\n"
     ]
    }
   ],
   "source": [
    "x = 3\n",
    "if x % 2 == 0:\n",
    "    print('even')\n",
    "else:\n",
    "    print('odd')"
   ]
  },
  {
   "cell_type": "code",
   "execution_count": 7,
   "id": "99b448dc",
   "metadata": {},
   "outputs": [
    {
     "name": "stdout",
     "output_type": "stream",
     "text": [
      "2.5\n",
      "2\n",
      "1\n"
     ]
    }
   ],
   "source": [
    "print(5/2)\n",
    "print(5//2)\n",
    "print(5%2)"
   ]
  },
  {
   "cell_type": "markdown",
   "id": "dc038005",
   "metadata": {},
   "source": [
    "## Nested conditionals and their (and/or) equivalent\n",
    "\n",
    "There's mulitple valid ways to reach a conlusion of True/False with multiple \"parts\" of the statement."
   ]
  },
  {
   "cell_type": "code",
   "execution_count": 9,
   "id": "cc90cedc",
   "metadata": {},
   "outputs": [
    {
     "name": "stdout",
     "output_type": "stream",
     "text": [
      "x is small and also even\n"
     ]
    }
   ],
   "source": [
    "def xIsSmallAndePos(x):\n",
    "    if x < 100:\n",
    "        if x % 2 == 0:\n",
    "            print('x is small and also even')\n",
    "\n",
    "xIsSmallAndePos(4)\n",
    "xIsSmallAndePos(5)\n",
    "xIsSmallAndePos(1024)"
   ]
  },
  {
   "cell_type": "code",
   "execution_count": null,
   "id": "7d51ba34",
   "metadata": {},
   "outputs": [
    {
     "name": "stdout",
     "output_type": "stream",
     "text": [
      "x is small and also even\n"
     ]
    }
   ],
   "source": [
    "def xIsSmallAndePos(x):\n",
    "    if x < 100 and x % 2 == 0:\n",
    "            print('x is small and also even')\n",
    "\n",
    "xIsSmallAndePos(4)\n",
    "xIsSmallAndePos(5)\n",
    "xIsSmallAndePos(1024)"
   ]
  },
  {
   "cell_type": "code",
   "execution_count": null,
   "id": "e660dc4d",
   "metadata": {},
   "outputs": [
    {
     "name": "stdout",
     "output_type": "stream",
     "text": [
      "x is small and also even\n"
     ]
    }
   ],
   "source": [
    "def xIsSmallAndePos(x):\n",
    "        if x < 100 and not x % 2 == 1:\n",
    "            print('x is small and also even')\n",
    "\n",
    "xIsSmallAndePos(4)\n",
    "xIsSmallAndePos(5)\n",
    "xIsSmallAndePos(1024)"
   ]
  },
  {
   "cell_type": "markdown",
   "id": "6d2a0fd6",
   "metadata": {},
   "source": [
    "## python is a \"truthy\" language\n",
    "\n",
    "This means that the types in python can *sometimes* intermingle"
   ]
  },
  {
   "cell_type": "code",
   "execution_count": 12,
   "id": "4fcc43c5",
   "metadata": {},
   "outputs": [
    {
     "name": "stdout",
     "output_type": "stream",
     "text": [
      "2\n",
      "True\n",
      "True\n",
      "False\n"
     ]
    }
   ],
   "source": [
    "print(1 + True)\n",
    "\n",
    "print(1 == True)\n",
    "\n",
    "print(0==False)\n",
    "\n",
    "print(''==False)"
   ]
  },
  {
   "cell_type": "code",
   "execution_count": 14,
   "id": "ddcd7aa9",
   "metadata": {},
   "outputs": [
    {
     "name": "stdout",
     "output_type": "stream",
     "text": [
      "x is small\n",
      "x is positive\n",
      "x is small\n",
      "x is positive\n"
     ]
    }
   ],
   "source": [
    "def xIsSmallOrPos(x):\n",
    "    if x < 100:\n",
    "        print('x is small')\n",
    "    if x % 2 == 0:\n",
    "        print('x is positive')\n",
    "        \n",
    "\n",
    "xIsSmallOrPos(4)\n",
    "xIsSmallOrPos(5)\n",
    "xIsSmallOrPos(1024)"
   ]
  },
  {
   "cell_type": "code",
   "execution_count": 15,
   "id": "388183a8",
   "metadata": {},
   "outputs": [
    {
     "name": "stdout",
     "output_type": "stream",
     "text": [
      "x is small or positive (not sure which)\n",
      "x is small or positive (not sure which)\n",
      "x is small or positive (not sure which)\n"
     ]
    }
   ],
   "source": [
    "def xIsSmallOrPos(x):\n",
    "    if x < 100 or x % 2 == 0:\n",
    "        print('x is small or positive (not sure which)')        \n",
    "\n",
    "xIsSmallOrPos(4)\n",
    "xIsSmallOrPos(5)\n",
    "xIsSmallOrPos(1024)"
   ]
  },
  {
   "cell_type": "markdown",
   "id": "d7a07b8f",
   "metadata": {},
   "source": [
    "## One line if statements"
   ]
  },
  {
   "cell_type": "code",
   "execution_count": 3,
   "id": "d5fe841a",
   "metadata": {},
   "outputs": [
    {
     "name": "stdout",
     "output_type": "stream",
     "text": [
      "{'Alice': 'got let through', 'Bob': 'got let through', 'Charlie': 'got told to scram!'}\n"
     ]
    }
   ],
   "source": [
    "\n",
    "my_dict = { 'Alice':32, 'Bob':24, 'Charlie':19 }\n",
    "\n",
    "kicked_out_dict = {}\n",
    "for key,val in my_dict.items():\n",
    "    # we will compress the next 4 lines into a single line below\n",
    "    if val > 21:\n",
    "        kicked_out_dict[key] = 'got let through'\n",
    "    else:\n",
    "        kicked_out_dict[key] = 'got told to scram!'\n",
    "\n",
    "\n",
    "kicked_out_dict = {}\n",
    "for key,val in my_dict.items():\n",
    "    # this single line does the same as the above 4 lines\n",
    "    kicked_out_dict[key] = 'got let through' if val > 21 else 'got told to scram!'\n",
    "\n",
    "print(kicked_out_dict)"
   ]
  }
 ],
 "metadata": {
  "kernelspec": {
   "display_name": "engravings",
   "language": "python",
   "name": "python3"
  },
  "language_info": {
   "codemirror_mode": {
    "name": "ipython",
    "version": 3
   },
   "file_extension": ".py",
   "mimetype": "text/x-python",
   "name": "python",
   "nbconvert_exporter": "python",
   "pygments_lexer": "ipython3",
   "version": "3.12.7"
  }
 },
 "nbformat": 4,
 "nbformat_minor": 5
}
