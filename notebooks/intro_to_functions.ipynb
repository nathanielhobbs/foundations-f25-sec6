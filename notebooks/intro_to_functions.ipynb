{
 "cells": [
  {
   "cell_type": "markdown",
   "id": "a45fc4f4",
   "metadata": {},
   "source": [
    "# Functions\n",
    "\n",
    "A function (also called a \"method\") is a transformation between input and output.  \n",
    "\n",
    "Functions can have no inputs, 1 input, many inputs. Inputs can be named or not. Inputs can be optional or required. \n",
    "\n",
    "Functions in python *must have at least one output*, but it may have more."
   ]
  },
  {
   "cell_type": "code",
   "execution_count": 1,
   "id": "5eba5a93",
   "metadata": {},
   "outputs": [],
   "source": [
    "def firstFunction():\n",
    "    pass"
   ]
  },
  {
   "cell_type": "markdown",
   "id": "4dfaf5f2",
   "metadata": {},
   "source": [
    "Funtions in python begin with the word \"def\" and then a white space, then the name of the function, then paratheses (), which are for the inputs/arguments/parameters of the function, then a colon.\n",
    "\n",
    "A *block* is a collection of code that is meant to be grouped together.  These are specified in python with white space."
   ]
  },
  {
   "cell_type": "markdown",
   "id": "c9f3dfcd",
   "metadata": {},
   "source": [
    "The *pass* word is just a throw away word in python for making the grammar checker happy.  It's for things that aren't finished yet, but you don't want the python interpreter to complain.\n",
    "\n",
    "Below, we show what happens if you *don't* use the \"pass\" word. The interpreter will complain about a function definition needing *something* there to define it."
   ]
  },
  {
   "cell_type": "code",
   "execution_count": 2,
   "id": "d0ea313f",
   "metadata": {},
   "outputs": [
    {
     "ename": "SyntaxError",
     "evalue": "incomplete input (3388015951.py, line 2)",
     "output_type": "error",
     "traceback": [
      "\u001b[0;36m  Cell \u001b[0;32mIn[2], line 2\u001b[0;36m\u001b[0m\n\u001b[0;31m    \u001b[0m\n\u001b[0m    ^\u001b[0m\n\u001b[0;31mSyntaxError\u001b[0m\u001b[0;31m:\u001b[0m incomplete input\n"
     ]
    }
   ],
   "source": [
    "def firstFunction():\n",
    "    "
   ]
  },
  {
   "cell_type": "code",
   "execution_count": null,
   "id": "52e9094b",
   "metadata": {},
   "outputs": [
    {
     "ename": "SyntaxError",
     "evalue": "expected ':' (3315415717.py, line 1)",
     "output_type": "error",
     "traceback": [
      "\u001b[0;36m  Cell \u001b[0;32mIn[1], line 1\u001b[0;36m\u001b[0m\n\u001b[0;31m    def firstFunction()\u001b[0m\n\u001b[0m                       ^\u001b[0m\n\u001b[0;31mSyntaxError\u001b[0m\u001b[0;31m:\u001b[0m expected ':'\n"
     ]
    }
   ],
   "source": [
    "def firstFunction()\n",
    "    pass"
   ]
  },
  {
   "cell_type": "markdown",
   "id": "31bbac47",
   "metadata": {},
   "source": [
    "The above shows a \"punction error\" in python, that is, the missing colon is a syntax (that is, grammatical) error."
   ]
  },
  {
   "cell_type": "code",
   "execution_count": 2,
   "id": "592a75c1",
   "metadata": {},
   "outputs": [
    {
     "ename": "IndentationError",
     "evalue": "expected an indented block after function definition on line 1 (2002081208.py, line 2)",
     "output_type": "error",
     "traceback": [
      "\u001b[0;36m  Cell \u001b[0;32mIn[2], line 2\u001b[0;36m\u001b[0m\n\u001b[0;31m    pass\u001b[0m\n\u001b[0m    ^\u001b[0m\n\u001b[0;31mIndentationError\u001b[0m\u001b[0;31m:\u001b[0m expected an indented block after function definition on line 1\n"
     ]
    }
   ],
   "source": [
    "def firstFunction():\n",
    "pass"
   ]
  },
  {
   "cell_type": "markdown",
   "id": "af86f79c",
   "metadata": {},
   "source": [
    "The above shows the importance of *white space* in python for grouping code together. This group is called a \"block\"."
   ]
  },
  {
   "cell_type": "markdown",
   "id": "ec5b36b7",
   "metadata": {},
   "source": [
    "The number of spaces doesn't matter, on one hand, e.g., below we will show that the python interpreter doesn't care sometimes."
   ]
  },
  {
   "cell_type": "code",
   "execution_count": 5,
   "id": "aff31482",
   "metadata": {},
   "outputs": [],
   "source": [
    "def firstFunction():\n",
    " pass # one space\n",
    "\n",
    "def firstFunction():\n",
    "  pass # two space\n",
    "\n",
    "def firstFunction():\n",
    "   pass # three space\n",
    "\n",
    "def firstFunction():\n",
    "    pass # four space"
   ]
  },
  {
   "cell_type": "markdown",
   "id": "8027b8a6",
   "metadata": {},
   "source": [
    "However, there are times when the number of spaces matter *within a block*.  Here you must be consistant.  The python interpreter will complain (crash), e.g. below"
   ]
  },
  {
   "cell_type": "code",
   "execution_count": 11,
   "id": "0a8df8e6",
   "metadata": {},
   "outputs": [
    {
     "ename": "IndentationError",
     "evalue": "unexpected indent (2034458936.py, line 4)",
     "output_type": "error",
     "traceback": [
      "\u001b[0;36m  Cell \u001b[0;32mIn[11], line 4\u001b[0;36m\u001b[0m\n\u001b[0;31m    print('second thing the func does') # one space\u001b[0m\n\u001b[0m    ^\u001b[0m\n\u001b[0;31mIndentationError\u001b[0m\u001b[0;31m:\u001b[0m unexpected indent\n"
     ]
    }
   ],
   "source": [
    "# here is the function definition (this is a definition *not* \"using/calling/executing\")\n",
    "def firstFunction():\n",
    " print('first thing the func does') # one space\n",
    "  print('second thing the func does') # one space\n",
    "\n",
    "# This is running/calling/executing/using the function\n",
    "firstFunction()"
   ]
  },
  {
   "cell_type": "code",
   "execution_count": 2,
   "id": "da741277",
   "metadata": {},
   "outputs": [
    {
     "name": "stdout",
     "output_type": "stream",
     "text": [
      "first thing the func does\n",
      "second thing the func does\n",
      "\n",
      "first thing the func does\n",
      "second thing the func does\n"
     ]
    }
   ],
   "source": [
    "# here is the function definition (this is a definition *not* \"using/calling/executing\")\n",
    "def firstFunction():\n",
    "    print('first thing the func does') # one space\n",
    "    print('second thing the func does') # one space\n",
    "\n",
    "# This is running/calling/executing/using/invoking the function\n",
    "firstFunction()\n",
    "print() # this prints a blank line\n",
    "firstFunction()"
   ]
  },
  {
   "cell_type": "markdown",
   "id": "d03b94e6",
   "metadata": {},
   "source": [
    "This function takes a single input. It is required.\n",
    "\n",
    "We are sending to the terminal a single string using the print function.  We are passing two inputs to the print function. The first is a string, the second is a *variable*.  Print \"resolved\" the variable's value before concatenating it to the other strings in it's input. By default, the print function concatenates every input with a single white space."
   ]
  },
  {
   "cell_type": "code",
   "execution_count": 11,
   "id": "8d292dc2",
   "metadata": {},
   "outputs": [
    {
     "name": "stdout",
     "output_type": "stream",
     "text": [
      "hi alice\n",
      "hi bob\n"
     ]
    }
   ],
   "source": [
    "def printHello(name):\n",
    "    print('hi', name)\n",
    "\n",
    "printHello('alice')\n",
    "printHello('bob')"
   ]
  },
  {
   "cell_type": "markdown",
   "id": "bb6c2cdc",
   "metadata": {},
   "source": [
    "The below function returns a value (that is, it has a defined *output*).  There is one output, which is a single string.\n",
    "\n",
    "We only *see* the output once because \"seeing\" it means it appears in the terminal. The print function does this.  The print function is only used once below.  Above, the print function is called twice."
   ]
  },
  {
   "cell_type": "code",
   "execution_count": 12,
   "id": "086a6e9c",
   "metadata": {},
   "outputs": [
    {
     "name": "stdout",
     "output_type": "stream",
     "text": [
      "hi bob\n"
     ]
    }
   ],
   "source": [
    "def returnHello(name):\n",
    "    return 'hi' + ' ' + name\n",
    "\n",
    "# this will not print anything because the output\n",
    "# is never sent to the terminal\n",
    "returnHello('alice')\n",
    "# this will show up in the \"terminal\", because we're using the print \n",
    "# function to send it there\n",
    "print(returnHello('bob'))"
   ]
  },
  {
   "cell_type": "markdown",
   "id": "1e4a1c65",
   "metadata": {},
   "source": [
    "In python, *every* function returns *something*.  By default, *every* function will return a special type that means \"nothing\". In python this is the None type (other languages use something like Null, python uses None)"
   ]
  },
  {
   "cell_type": "code",
   "execution_count": 13,
   "id": "afc796e3",
   "metadata": {},
   "outputs": [
    {
     "name": "stdout",
     "output_type": "stream",
     "text": [
      "hi alice\n",
      "hi bob\n",
      "None\n"
     ]
    }
   ],
   "source": [
    "def printHello(name):\n",
    "    print('hi', name)\n",
    "\n",
    "printHello('alice')\n",
    "print(printHello('bob'))"
   ]
  },
  {
   "cell_type": "markdown",
   "id": "414857ae",
   "metadata": {},
   "source": [
    "The above function has an \"implicit\"/\"implied\"/\"default\" return value. In python, \"nothing\" is represented with a special type, None.\n",
    "\n",
    "Below, we see the function making the default not implicet, but explicit (we *spell it out*)"
   ]
  },
  {
   "cell_type": "code",
   "execution_count": null,
   "id": "eea81568",
   "metadata": {},
   "outputs": [],
   "source": [
    "def printHello(name):\n",
    "    print('hi', name)\n",
    "\n",
    "printHello('alice')\n",
    "print(printHello('bob'))\n",
    "\n",
    "def printHello(name):\n",
    "    print('hi', name)\n",
    "    return None\n",
    "\n",
    "printHello('alice')\n",
    "print(printHello('bob'))"
   ]
  },
  {
   "cell_type": "markdown",
   "id": "0be5017e",
   "metadata": {},
   "source": [
    "### function outputs\n",
    "\n",
    "The output type of a function with many outputs is a tuple.  This way, a funtion have many outputs (but they all get passed in a single collection)"
   ]
  },
  {
   "cell_type": "code",
   "execution_count": 6,
   "id": "1f220836",
   "metadata": {},
   "outputs": [
    {
     "name": "stdout",
     "output_type": "stream",
     "text": [
      "(3, 4, 7)\n",
      "the first output is  5 the second output is 6 and they sum to 11\n",
      "the first output is  12 the second output is 7 and they sum to 19\n",
      "I really only care about the sum 7\n"
     ]
    }
   ],
   "source": [
    "def twoSum(a,b):\n",
    "    return a, b, a+b\n",
    "\n",
    "print(twoSum(3,4))\n",
    "\n",
    "# you can \"capture\" these outputs as a tuple and access them by indexing\n",
    "output = twoSum(5,6)\n",
    "print('the first output is ', output[0], 'the second output is', output[1], 'and they sum to', output[2])\n",
    "\n",
    "# you can also capture the inputs individually and assign them to variables\n",
    "# all on a single line\n",
    "out1, out2, out3 = twoSum(12,7)\n",
    "print('the first output is ', out1, 'the second output is', out2, 'and they sum to', out3)\n",
    "\n",
    "# you can use the _ character to \"ignore\" values. This can make code look simpler\n",
    "# and also save some space (because the variables don't need to be created/stored)\n",
    "# in memory\n",
    "_, _, thing_i_care_about = twoSum(3,4)\n",
    "print('I really only care about the sum', thing_i_care_about)"
   ]
  },
  {
   "cell_type": "markdown",
   "id": "9d1f5a55",
   "metadata": {},
   "source": [
    "## function inputs (required vs optional) (positional vs keyword)\n",
    "\n",
    "Functions can have zero, or 1 or more inputs.  Depending on how the function is defined, you can have a mixture of required/optional arguments.\n",
    "\n",
    "First, we will discuss defining a required argument (aka a required input), because it's the simplest. These are always \"positional\", meaning that they come first (in the order of any inputs), and their position matters."
   ]
  },
  {
   "cell_type": "code",
   "execution_count": 9,
   "id": "e1b0f4ed",
   "metadata": {},
   "outputs": [
    {
     "name": "stdout",
     "output_type": "stream",
     "text": [
      "You're full name is john doe\n",
      "You're full name is doe john\n"
     ]
    },
    {
     "ename": "TypeError",
     "evalue": "printFullName() missing 1 required positional argument: 'last'",
     "output_type": "error",
     "traceback": [
      "\u001b[0;31m---------------------------------------------------------------------------\u001b[0m",
      "\u001b[0;31mTypeError\u001b[0m                                 Traceback (most recent call last)",
      "Cell \u001b[0;32mIn[9], line 12\u001b[0m\n\u001b[1;32m      8\u001b[0m printFullName(\u001b[38;5;124m'\u001b[39m\u001b[38;5;124mdoe\u001b[39m\u001b[38;5;124m'\u001b[39m, \u001b[38;5;124m'\u001b[39m\u001b[38;5;124mjohn\u001b[39m\u001b[38;5;124m'\u001b[39m) \u001b[38;5;66;03m# will never produce \"john doe\"\u001b[39;00m\n\u001b[1;32m     10\u001b[0m \u001b[38;5;66;03m# Because both of these are required, if one is missing, then\u001b[39;00m\n\u001b[1;32m     11\u001b[0m \u001b[38;5;66;03m# the python interpreter will halt with an error\u001b[39;00m\n\u001b[0;32m---> 12\u001b[0m \u001b[43mprintFullName\u001b[49m\u001b[43m(\u001b[49m\u001b[38;5;124;43m'\u001b[39;49m\u001b[38;5;124;43mjohn doe\u001b[39;49m\u001b[38;5;124;43m'\u001b[39;49m\u001b[43m)\u001b[49m\n",
      "\u001b[0;31mTypeError\u001b[0m: printFullName() missing 1 required positional argument: 'last'"
     ]
    }
   ],
   "source": [
    "def printFullName(first,last):\n",
    "    print('You\\'re full name is', first, last)\n",
    "\n",
    "# here, for \"john doe\", first name and last name are dependent on their positions\n",
    "printFullName('john', 'doe') \n",
    "\n",
    "# there is no way to call the function and \"swap\" things around in the input\n",
    "printFullName('doe', 'john') # will never produce \"john doe\"\n",
    "\n",
    "# Because both of these are required, if one is missing, then\n",
    "# the python interpreter will halt with an error\n",
    "printFullName('john doe')\n"
   ]
  },
  {
   "cell_type": "markdown",
   "id": "febf19b8",
   "metadata": {},
   "source": [
    "## optional inputs\n",
    "\n",
    "The easiest kind of optional input is one variable for one input.  These are \"keyword\" arguments (aka a key-value pair), where the key in the name of the variable and the value is the defined default value.  Because the variable is given a default value, then it's not required (the default will be used instead)"
   ]
  },
  {
   "cell_type": "code",
   "execution_count": 12,
   "id": "de1e92ae",
   "metadata": {},
   "outputs": [
    {
     "name": "stdout",
     "output_type": "stream",
     "text": [
      "you're full name is alice stevens\n",
      "you're full name is alice doe\n",
      "you're full name is john stevens\n"
     ]
    }
   ],
   "source": [
    "def relaxedPrintFullName(first='john',last='doe'):\n",
    "    print(\"you're full name is\", first,last)\n",
    "\n",
    "# this replaces both defaults\n",
    "relaxedPrintFullName('alice','stevens') \n",
    "# this will use the default value for the second (and assumes position)\n",
    "relaxedPrintFullName('alice') \n",
    "# this will use the default value for the first (and does not assume position, it uses the key)\n",
    "relaxedPrintFullName(last='stevens')"
   ]
  },
  {
   "cell_type": "markdown",
   "id": "f5c481c5",
   "metadata": {},
   "source": [
    "## *args\n",
    "\n",
    "This allows for optional (positional) arguments that are varialbe in length (think of a sum function).\n",
    "\n",
    "The astrisk * is a special character that can go in front of *one* variable in a function's definition. This should after all of the required/keyword arguments.\n",
    "It is a tuple that can \"capture\" any \"extra\" inputs to the function.\n",
    "\n",
    "It's usually just used as *args, but you can replace the variable name \"args\" with anything you want."
   ]
  },
  {
   "cell_type": "code",
   "execution_count": 20,
   "id": "8d132e71",
   "metadata": {},
   "outputs": [
    {
     "name": "stdout",
     "output_type": "stream",
     "text": [
      "the required arguments are 1 2 and the \"leftover\" tuple is ()\n",
      "the required arguments are abc 123 and the \"leftover\" tuple is (4, 667, 'bob')\n"
     ]
    }
   ],
   "source": [
    "def twoOrMore(a,b,*args):\n",
    "    print('the required arguments are',a,b,'and the \"leftover\" tuple is', args)\n",
    "\n",
    "twoOrMore(1,2)\n",
    "twoOrMore('abc',123,4,667,'bob')"
   ]
  },
  {
   "cell_type": "markdown",
   "id": "a02ccf33",
   "metadata": {},
   "source": [
    "# **kwargs\n",
    "\n",
    "This also allows for a variable number of keyword inputs. Think of this like the user of the function being able to input their own variable/value inputs (even if the variables were never created in the function, they're being passed as inputs!)\n",
    "\n",
    "The ** can be put in front of any variable name, but kwargs is usually used."
   ]
  },
  {
   "cell_type": "code",
   "execution_count": 25,
   "id": "15969c13",
   "metadata": {},
   "outputs": [
    {
     "name": "stdout",
     "output_type": "stream",
     "text": [
      "the value of kwargs is: {'one': 'the number one', 'two': 'the number two'}\n"
     ]
    }
   ],
   "source": [
    "def vocabDef(**kwargs):\n",
    "    print('the value of kwargs is:', kwargs)\n",
    "\n",
    "vocabDef(one='the number one', two='the number two')"
   ]
  },
  {
   "cell_type": "markdown",
   "id": "f35bfc7e",
   "metadata": {},
   "source": [
    "## variable context (local vs global)\n",
    "\n",
    "Global variables can be seen anywhere in the program.\n",
    "\n",
    "Local variables can only be seen in their local context."
   ]
  },
  {
   "cell_type": "code",
   "execution_count": null,
   "id": "be7ee6f7",
   "metadata": {},
   "outputs": [
    {
     "name": "stdout",
     "output_type": "stream",
     "text": [
      "7\n",
      "7\n"
     ]
    },
    {
     "ename": "NameError",
     "evalue": "name 'result' is not defined",
     "output_type": "error",
     "traceback": [
      "\u001b[0;31m---------------------------------------------------------------------------\u001b[0m",
      "\u001b[0;31mNameError\u001b[0m                                 Traceback (most recent call last)",
      "Cell \u001b[0;32mIn[26], line 10\u001b[0m\n\u001b[1;32m      8\u001b[0m my_sum \u001b[38;5;241m=\u001b[39m twoSum(\u001b[38;5;241m3\u001b[39m,\u001b[38;5;241m4\u001b[39m)\n\u001b[1;32m      9\u001b[0m \u001b[38;5;28mprint\u001b[39m(my_sum)\n\u001b[0;32m---> 10\u001b[0m \u001b[38;5;28mprint\u001b[39m(\u001b[43mresult\u001b[49m)\n",
      "\u001b[0;31mNameError\u001b[0m: name 'result' is not defined"
     ]
    }
   ],
   "source": [
    "g = 'global'\n",
    "\n",
    "def twoSum(a,b):\n",
    "    result = a + b # the variable \"result\" is defined here and can only be accessed inside of the function\n",
    "    print(result)\n",
    "    return result\n",
    "\n",
    "my_sum = twoSum(3,4)\n",
    "print(my_sum)\n",
    "print(result) # this is outside the \"context\" of the function twoSum\n"
   ]
  },
  {
   "cell_type": "code",
   "execution_count": null,
   "id": "2364dd93",
   "metadata": {},
   "outputs": [],
   "source": []
  }
 ],
 "metadata": {
  "kernelspec": {
   "display_name": "engravings",
   "language": "python",
   "name": "python3"
  },
  "language_info": {
   "codemirror_mode": {
    "name": "ipython",
    "version": 3
   },
   "file_extension": ".py",
   "mimetype": "text/x-python",
   "name": "python",
   "nbconvert_exporter": "python",
   "pygments_lexer": "ipython3",
   "version": "3.12.7"
  }
 },
 "nbformat": 4,
 "nbformat_minor": 5
}
