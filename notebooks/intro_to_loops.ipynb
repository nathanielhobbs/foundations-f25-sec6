{
 "cells": [
  {
   "cell_type": "markdown",
   "id": "f4a4526b",
   "metadata": {},
   "source": [
    "# Loops\n",
    "\n",
    "Loops allow for a program to excecute a code block many times.  There are two kinds of loops:\n",
    "\n",
    "- for\n",
    "- while\n",
    "\n",
    "A for loop is a loop that goes for some *fixed number* of times.  For example, \"do this 10 time\" or \"do this 1000 times\" or \"do this for each item in a list\""
   ]
  },
  {
   "cell_type": "code",
   "execution_count": 1,
   "id": "df8a9edf",
   "metadata": {},
   "outputs": [
    {
     "name": "stdout",
     "output_type": "stream",
     "text": [
      "abc\n",
      "1\n",
      "5.677\n",
      "True\n"
     ]
    }
   ],
   "source": [
    "my_list = ['abc', 1, 5.677, True]\n",
    "\n",
    "# python makes it easy to iterate through the values of a list\n",
    "for item in my_list:\n",
    "    print(item)"
   ]
  },
  {
   "cell_type": "code",
   "execution_count": 2,
   "id": "e11b9246",
   "metadata": {},
   "outputs": [
    {
     "name": "stdout",
     "output_type": "stream",
     "text": [
      "abc\n",
      "1\n",
      "5.677\n",
      "True\n"
     ]
    }
   ],
   "source": [
    "my_list = ['abc', 1, 5.677, True]\n",
    "\n",
    "# python makes it easy to iterate through the values of a list\n",
    "for i in range(len(my_list)):\n",
    "    print(my_list[i])"
   ]
  },
  {
   "cell_type": "markdown",
   "id": "96cc68f5",
   "metadata": {},
   "source": [
    "## the \"range\" type\n",
    "\n",
    "range() is a function in python that takes one input: an integer.  The function returns an object of type range.  This behaves like a list where its the values are the same as the indices.\n",
    "\n",
    "The range type exists because it can save space.  It doesn't need to store all of the values (which could take up a lot of space) it just stores 3 things:\n",
    "- current value\n",
    "- update value rule\n",
    "- stop value"
   ]
  },
  {
   "cell_type": "code",
   "execution_count": 3,
   "id": "4d3e0ed4",
   "metadata": {},
   "outputs": [
    {
     "name": "stdout",
     "output_type": "stream",
     "text": [
      "<class 'list'>\n",
      "<class 'tuple'>\n",
      "<class 'range'>\n"
     ]
    }
   ],
   "source": [
    "print(type(['a','b']))\n",
    "print(type(('a','b')))\n",
    "print(type(range(2)))"
   ]
  },
  {
   "cell_type": "code",
   "execution_count": 5,
   "id": "90aeeeef",
   "metadata": {},
   "outputs": [
    {
     "name": "stdout",
     "output_type": "stream",
     "text": [
      "range(0, 5)\n",
      "[0, 1, 2, 3, 4]\n"
     ]
    }
   ],
   "source": [
    "print(range(5))\n",
    "print(list(range(5))) # cast (force a type change) a range as a list "
   ]
  },
  {
   "cell_type": "markdown",
   "id": "5e205b04",
   "metadata": {},
   "source": [
    "The full form of a range is:\n",
    "\n",
    "range(start,stop,step)\n",
    "\n",
    "- the start value is default 0.\n",
    "- the stop value is required\n",
    "- the step rule is default +1"
   ]
  },
  {
   "cell_type": "code",
   "execution_count": 6,
   "id": "e7805802",
   "metadata": {},
   "outputs": [
    {
     "name": "stdout",
     "output_type": "stream",
     "text": [
      "[63, True]\n"
     ]
    }
   ],
   "source": [
    "# slicing in lists\n",
    "my_list = ['abc', 63, 3.1453, True, ['one', 'two'], False]\n",
    "\n",
    "print(my_list[1:5:2])"
   ]
  },
  {
   "cell_type": "code",
   "execution_count": 7,
   "id": "15214f5a",
   "metadata": {},
   "outputs": [
    {
     "name": "stdout",
     "output_type": "stream",
     "text": [
      "range(0, 10)\n",
      "[0, 1, 2, 3, 4, 5, 6, 7, 8, 9]\n",
      "[0, 1, 2, 3, 4, 5, 6, 7, 8, 9]\n",
      "[0, 1, 2, 3, 4, 5, 6, 7, 8, 9]\n"
     ]
    }
   ],
   "source": [
    "print(range(10))\n",
    "print(list(range(10)))\n",
    "print(list(range(0,10))) # make start explicit \n",
    "print(list(range(0,10,1))) # make start and step explicit "
   ]
  },
  {
   "cell_type": "code",
   "execution_count": 8,
   "id": "e66e29ff",
   "metadata": {},
   "outputs": [
    {
     "name": "stdout",
     "output_type": "stream",
     "text": [
      "[0, 1, 2, 3, 4, 5, 6, 7, 8, 9]\n",
      "[2, 3, 4, 5, 6, 7, 8, 9]\n",
      "[2, 4, 6, 8]\n",
      "[10, 9, 8, 7, 6, 5, 4, 3, 2, 1]\n"
     ]
    }
   ],
   "source": [
    "print(list(range(0,10,1)))\n",
    "print(list(range(2,10,1)))\n",
    "print(list(range(2,10,2)))\n",
    "print(list(range(10,0,-1)))"
   ]
  },
  {
   "cell_type": "code",
   "execution_count": 9,
   "id": "714d8e2c",
   "metadata": {},
   "outputs": [
    {
     "name": "stdout",
     "output_type": "stream",
     "text": [
      "do\n",
      "do\n",
      "do\n",
      "do\n",
      "do\n",
      "do\n",
      "do\n",
      "do\n",
      "do\n",
      "do\n"
     ]
    }
   ],
   "source": [
    "my_string = 'do'\n",
    "for i in range(10):\n",
    "    print(my_string)"
   ]
  },
  {
   "cell_type": "markdown",
   "id": "4b050277",
   "metadata": {},
   "source": [
    "## while loop\n",
    "\n",
    "A while loop is a loop that executes a block of code so long some condition is true."
   ]
  },
  {
   "cell_type": "code",
   "execution_count": 10,
   "id": "a280b910",
   "metadata": {},
   "outputs": [
    {
     "name": "stdout",
     "output_type": "stream",
     "text": [
      "0\n",
      "1\n",
      "2\n",
      "3\n",
      "4\n",
      "5\n",
      "6\n",
      "7\n",
      "8\n",
      "9\n"
     ]
    }
   ],
   "source": [
    "i = 0\n",
    "while i < 10:\n",
    "    print(i)\n",
    "    i = i + 1"
   ]
  },
  {
   "cell_type": "code",
   "execution_count": 11,
   "id": "3255632c",
   "metadata": {},
   "outputs": [
    {
     "name": "stdout",
     "output_type": "stream",
     "text": [
      "0\n",
      "1\n",
      "2\n",
      "3\n",
      "4\n",
      "5\n",
      "6\n",
      "7\n",
      "8\n",
      "9\n"
     ]
    }
   ],
   "source": [
    "for i in range(10):\n",
    "    print(i)"
   ]
  },
  {
   "cell_type": "markdown",
   "id": "116de372",
   "metadata": {},
   "source": [
    "In python, a while loop can do everything.  Anything you can do with a for loop you can do with a while loop (see above).\n",
    "\n",
    "The reverse is not true. \n",
    "\n",
    "That is, a while loop is \"more powerful\" and can do things you can not do with a for loop.\n",
    "\n",
    "In python, there is no way to make an infinant loop using a for loop."
   ]
  },
  {
   "cell_type": "code",
   "execution_count": 12,
   "id": "ddb815b5",
   "metadata": {},
   "outputs": [
    {
     "name": "stdout",
     "output_type": "stream",
     "text": [
      "0\n",
      "1\n",
      "2\n",
      "3\n",
      "4\n",
      "5\n",
      "6\n",
      "7\n",
      "8\n",
      "9\n"
     ]
    }
   ],
   "source": [
    "for i in range(10):\n",
    "    print(i)\n",
    "    i = i - 1"
   ]
  },
  {
   "cell_type": "markdown",
   "id": "8c7825c7",
   "metadata": {},
   "source": [
    "The above shows that the python interpreter updates the iterable's value. You (the programmer) can not change this, even if you try."
   ]
  },
  {
   "cell_type": "code",
   "execution_count": null,
   "id": "15b77c67",
   "metadata": {},
   "outputs": [
    {
     "name": "stdout",
     "output_type": "stream",
     "text": [
      "i =  0 j =  0\n",
      "i =  0 j =  1\n",
      "i =  0 j =  2\n",
      "i =  1 j =  0\n",
      "i =  1 j =  1\n",
      "i =  1 j =  2\n",
      "i =  2 j =  0\n",
      "i =  2 j =  1\n",
      "i =  2 j =  2\n",
      "i =  3 j =  0\n",
      "i =  3 j =  1\n",
      "i =  3 j =  2\n",
      "i =  4 j =  0\n",
      "i =  4 j =  1\n",
      "i =  4 j =  2\n"
     ]
    }
   ],
   "source": [
    "for i in range(5):\n",
    "    for j in range(3):\n",
    "        print('i = ', i, 'j = ', j)"
   ]
  },
  {
   "cell_type": "markdown",
   "id": "98fcf5ee",
   "metadata": {},
   "source": [
    "### Interrupting a loop\n",
    "\n",
    "The word \"continue\" will have a loop's execution stop immediately, and move on to the next iteration.\n",
    "\n",
    "The word \"break\" will have a loop's execution stop immediately, and no more subsequent iterations (the loop is \"broken out of\")"
   ]
  },
  {
   "cell_type": "markdown",
   "id": "17182de3",
   "metadata": {},
   "source": [
    "To demonstrate the \"continue\" word, I'll show two pieces of code that do the same thing.  One uses the word \"continue\", another uses knowledge of list slicing, another will use different input values of range()."
   ]
  },
  {
   "cell_type": "code",
   "execution_count": 3,
   "id": "a09db570",
   "metadata": {},
   "outputs": [
    {
     "name": "stdout",
     "output_type": "stream",
     "text": [
      "0\n",
      "2\n",
      "4\n",
      "6\n",
      "8\n"
     ]
    }
   ],
   "source": [
    "for i in range(0,10,2): # setting the start to 0 and the step size to 2\n",
    "    print(i)"
   ]
  },
  {
   "cell_type": "code",
   "execution_count": null,
   "id": "525231d6",
   "metadata": {},
   "outputs": [
    {
     "name": "stdout",
     "output_type": "stream",
     "text": [
      "[0, 1, 2, 3, 4, 5, 6, 7, 8, 9]\n",
      "0\n",
      "2\n",
      "4\n",
      "6\n",
      "8\n"
     ]
    }
   ],
   "source": [
    "all_ten_list = list(range(10)) # there's a better way to do this using comprehensions\n",
    "print(all_ten_list)\n",
    "for i in all_ten_list[::2]: # start default 0, stop default len()-1, step=2\n",
    "    print(i)"
   ]
  },
  {
   "cell_type": "code",
   "execution_count": 11,
   "id": "7d929722",
   "metadata": {},
   "outputs": [
    {
     "name": "stdout",
     "output_type": "stream",
     "text": [
      "0\n",
      "2\n",
      "4\n",
      "6\n",
      "8\n"
     ]
    }
   ],
   "source": [
    "for i in range(10):\n",
    "    if i%2 == 0:\n",
    "        print(i)\n",
    "    else:\n",
    "        continue"
   ]
  },
  {
   "cell_type": "markdown",
   "id": "785f8ecf",
   "metadata": {},
   "source": [
    "Here I will demonstrate a \"break\" out of the loop"
   ]
  },
  {
   "cell_type": "code",
   "execution_count": 13,
   "id": "575b1183",
   "metadata": {},
   "outputs": [
    {
     "name": "stdout",
     "output_type": "stream",
     "text": [
      "5\n",
      "6\n",
      "0\n",
      "-10\n"
     ]
    }
   ],
   "source": [
    "def bigNumbersScareMe(my_list):\n",
    "    for item in my_list:\n",
    "        if item > 10:\n",
    "            break\n",
    "        else:\n",
    "            print(item)\n",
    "\n",
    "bigNumbersScareMe([5,6, 0, -10, 12, 14, 1, 2])\n"
   ]
  },
  {
   "cell_type": "markdown",
   "id": "7b8b040e",
   "metadata": {},
   "source": [
    "### Getting both the index and value at the same time\n",
    "\n",
    "The word \"enumerate\" will return two things about a list/tuple: the index and the value."
   ]
  },
  {
   "cell_type": "code",
   "execution_count": 14,
   "id": "ce1a08c9",
   "metadata": {},
   "outputs": [
    {
     "name": "stdout",
     "output_type": "stream",
     "text": [
      "Alice is at position 0\n",
      "Bob is at position 1\n",
      "Charlie is at position 2\n"
     ]
    }
   ],
   "source": [
    "# This is considered \"ugly\" in python\n",
    "names = ['Alice', 'Bob', 'Charlie']\n",
    "for i in range(len(names)):\n",
    "    print(names[i], 'is at position', i)"
   ]
  },
  {
   "cell_type": "code",
   "execution_count": null,
   "id": "6194dcb4",
   "metadata": {},
   "outputs": [
    {
     "name": "stdout",
     "output_type": "stream",
     "text": [
      "Alice is at position 0\n",
      "Bob is at position 1\n",
      "Charlie is at position 2\n"
     ]
    }
   ],
   "source": [
    "# this is considered \"prettier\", i.e. this is more \"pythonic\"\n",
    "# note: enumerate(names) looks like [(0,'Alice), (1,'Bob'), (2,'Charlie')]\n",
    "names = ['Alice', 'Bob', 'Charlie']\n",
    "for i, name in enumerate(names): \n",
    "    print(name, 'is at position', i)"
   ]
  },
  {
   "cell_type": "code",
   "execution_count": 3,
   "id": "41801a56",
   "metadata": {},
   "outputs": [
    {
     "name": "stdout",
     "output_type": "stream",
     "text": [
      "Alice\n",
      "Bob\n",
      "Charlie\n",
      "Alice\n",
      "Bob\n",
      "Charlie\n",
      "32\n",
      "24\n",
      "19\n"
     ]
    }
   ],
   "source": [
    "my_dict = { 'Alice':32, 'Bob':24, 'Charlie':19 }\n",
    "\n",
    "for item in my_dict:\n",
    "    print(item)\n",
    "\n",
    "# this is making the above behavior explicit\n",
    "for key in my_dict.keys(): # .keys() returns something like a list\n",
    "    print(key)\n",
    "\n",
    "for value in my_dict.values():\n",
    "    print(value)"
   ]
  },
  {
   "cell_type": "markdown",
   "id": "8526995e",
   "metadata": {},
   "source": [
    "## Getting key/value pairs one at a time\n",
    "\n",
    "the .items() function will return a list of tuples, where each tuple has two elements: (1) the key (2) the corresponding value"
   ]
  },
  {
   "cell_type": "code",
   "execution_count": 5,
   "id": "49422d67",
   "metadata": {},
   "outputs": [
    {
     "name": "stdout",
     "output_type": "stream",
     "text": [
      "Alice is at index (key) 0\n",
      "Bob is at index (key) 1\n",
      "Charlie is at index (key) 2\n",
      "32 is at index (key) Alice\n",
      "24 is at index (key) Bob\n",
      "19 is at index (key) Charlie\n"
     ]
    }
   ],
   "source": [
    "my_dict = { 'Alice':32, 'Bob':24, 'Charlie':19 }\n",
    "\n",
    "for i,val in enumerate(my_dict):\n",
    "    print(val,'is at index (key)', i)\n",
    "\n",
    "for i,val in my_dict.items():\n",
    "    print(val,'is at index (key)', i)"
   ]
  },
  {
   "cell_type": "markdown",
   "id": "728b84b5",
   "metadata": {},
   "source": [
    "## Comprehensions\n",
    "\n",
    "When you're creating a collection, where it starts off empty, and you populate it with a for loop, this can take at least 3 lines of code.  A Comprehension can compress this into a single line."
   ]
  },
  {
   "cell_type": "code",
   "execution_count": null,
   "id": "3de8a157",
   "metadata": {},
   "outputs": [
    {
     "name": "stdout",
     "output_type": "stream",
     "text": [
      "['you can stay', 'get out!', 'you can stay']\n"
     ]
    }
   ],
   "source": [
    "names = ['Alice', 'Bob', 'Charlie']\n",
    "\n",
    "results = []\n",
    "for name in names:\n",
    "    if name[0] == 'b' or name[0] == 'B':\n",
    "        results.append('get out!')\n",
    "    else:\n",
    "        results.append('you can stay')\n",
    "\n",
    "print(results)"
   ]
  },
  {
   "cell_type": "code",
   "execution_count": 11,
   "id": "e78255ce",
   "metadata": {},
   "outputs": [
    {
     "name": "stdout",
     "output_type": "stream",
     "text": [
      "[0, 2, 4, 6, 8, 10, 12, 14, 16, 18]\n"
     ]
    }
   ],
   "source": [
    "first_ten_evens = []\n",
    "for i in range(0,20,2):\n",
    "    if i % 2 == 0:\n",
    "        first_ten_evens.append(i)\n",
    "\n",
    "print(first_ten_evens)"
   ]
  },
  {
   "cell_type": "markdown",
   "id": "ecfbc26f",
   "metadata": {},
   "source": [
    "We can compress the above into a single line"
   ]
  },
  {
   "cell_type": "code",
   "execution_count": null,
   "id": "a553a1f4",
   "metadata": {},
   "outputs": [
    {
     "name": "stdout",
     "output_type": "stream",
     "text": [
      "[0, 2, 4, 6, 8, 10, 12, 14, 16, 18]\n"
     ]
    }
   ],
   "source": [
    "# list comprehension\n",
    "first_ten_evens = [i for i in range(0,20,2) if i % 2 == 0]\n",
    "print(first_ten_evens)"
   ]
  },
  {
   "cell_type": "code",
   "execution_count": 14,
   "id": "38f1a949",
   "metadata": {},
   "outputs": [
    {
     "name": "stdout",
     "output_type": "stream",
     "text": [
      "{'Alice': 'got let through', 'Bob': 'got let through', 'Charlie': 'got told to scram!'}\n"
     ]
    }
   ],
   "source": [
    "my_dict = { 'Alice':32, 'Bob':24, 'Charlie':19 }\n",
    "\n",
    "kicked_out_dict = {}\n",
    "for key,val in my_dict.items():\n",
    "    if val > 21:\n",
    "        kicked_out_dict[key] = 'got let through'\n",
    "    else:\n",
    "        kicked_out_dict[key] = 'got told to scram!'\n",
    "\n",
    "print(kicked_out_dict)"
   ]
  },
  {
   "cell_type": "code",
   "execution_count": 15,
   "id": "3d7dd1df",
   "metadata": {},
   "outputs": [
    {
     "name": "stdout",
     "output_type": "stream",
     "text": [
      "{'Alice': 'got let through', 'Bob': 'got let through', 'Charlie': 'got told to scram!'}\n"
     ]
    }
   ],
   "source": [
    "my_dict = { 'Alice':32, 'Bob':24, 'Charlie':19 }\n",
    "\n",
    "kicked_out_dict = {key:'got let through'if val > 21 else 'got told to scram!' for key,val in my_dict.items() }\n",
    "\n",
    "print(kicked_out_dict)"
   ]
  }
 ],
 "metadata": {
  "kernelspec": {
   "display_name": "engravings",
   "language": "python",
   "name": "python3"
  },
  "language_info": {
   "codemirror_mode": {
    "name": "ipython",
    "version": 3
   },
   "file_extension": ".py",
   "mimetype": "text/x-python",
   "name": "python",
   "nbconvert_exporter": "python",
   "pygments_lexer": "ipython3",
   "version": "3.12.7"
  }
 },
 "nbformat": 4,
 "nbformat_minor": 5
}
