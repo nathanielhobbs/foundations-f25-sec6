{
 "cells": [
  {
   "cell_type": "code",
   "execution_count": 10,
   "id": "02f57f25",
   "metadata": {},
   "outputs": [
    {
     "data": {
      "text/plain": [
       "6"
      ]
     },
     "execution_count": 10,
     "metadata": {},
     "output_type": "execute_result"
    }
   ],
   "source": [
    "3+3"
   ]
  },
  {
   "cell_type": "markdown",
   "id": "056c6d9f",
   "metadata": {},
   "source": [
    "You can see below an example of why you should be careful about not using print.  Jupyter notebook will only show the very *last* thing that was calculated."
   ]
  },
  {
   "cell_type": "code",
   "execution_count": 3,
   "id": "ed43f7eb",
   "metadata": {},
   "outputs": [
    {
     "data": {
      "text/plain": [
       "9"
      ]
     },
     "execution_count": 3,
     "metadata": {},
     "output_type": "execute_result"
    }
   ],
   "source": [
    "3+3\n",
    "8+1"
   ]
  },
  {
   "cell_type": "markdown",
   "id": "96936b42",
   "metadata": {},
   "source": [
    "3 + 3\n",
    "\n",
    "Markdown is a markup language, that is it is *not* a programming language, it is just about *displaying text*\n",
    "\n",
    "You can have nice things like, bullet points:\n",
    "- one\n",
    "- two\n",
    "- bob"
   ]
  }
 ],
 "metadata": {
  "kernelspec": {
   "display_name": "engravings",
   "language": "python",
   "name": "python3"
  },
  "language_info": {
   "codemirror_mode": {
    "name": "ipython",
    "version": 3
   },
   "file_extension": ".py",
   "mimetype": "text/x-python",
   "name": "python",
   "nbconvert_exporter": "python",
   "pygments_lexer": "ipython3",
   "version": "3.12.7"
  }
 },
 "nbformat": 4,
 "nbformat_minor": 5
}
